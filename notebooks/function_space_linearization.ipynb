{
  "cells": [
    {
      "cell_type": "markdown",
      "metadata": {
        "colab_type": "text",
        "id": "9uPYkWOcghJm"
      },
      "source": [
        "##### Copyright 2019 Google LLC.\n",
        "\n",
        "Licensed under the Apache License, Version 2.0 (the \"License\");"
      ]
    },
    {
      "cell_type": "markdown",
      "metadata": {
        "colab_type": "text",
        "id": "YDnknGorgv2O"
      },
      "source": [
        "Licensed under the Apache License, Version 2.0 (the \"License\");\n",
        "you may not use this file except in compliance with the License.\n",
        "You may obtain a copy of the License at\n",
        "\n",
        "https://www.apache.org/licenses/LICENSE-2.0\n",
        "\n",
        "Unless required by applicable law or agreed to in writing, software\n",
        "distributed under the License is distributed on an \"AS IS\" BASIS,\n",
        "WITHOUT WARRANTIES OR CONDITIONS OF ANY KIND, either express or implied.\n",
        "See the License for the specific language governing permissions and\n",
        "limitations under the License."
      ]
    },
    {
      "cell_type": "markdown",
      "metadata": {
        "colab_type": "text",
        "id": "8KPv0bOW6UCi"
      },
      "source": [
        "#### Import \u0026 Utils"
      ]
    },
    {
      "cell_type": "markdown",
      "metadata": {
        "colab_type": "text",
        "id": "cxFbqXZKhGW0"
      },
      "source": [
        "Install JAX, Tensorflow Datasets, and Neural Tangents. \n",
        "\n",
        "The first line specifies the version of jaxlib that we would like to import. Note, that \"cp36\" species the version of python (version 3.6) used by JAX. Make sure your colab kernel matches this version."
      ]
    },
    {
      "cell_type": "code",
      "execution_count": 0,
      "metadata": {
        "colab": {},
        "colab_type": "code",
        "id": "g_gSbMyUhF92"
      },
      "outputs": [],
      "source": [
        "!pip install --upgrade -q https://storage.googleapis.com/jax-wheels/cuda$(echo $CUDA_VERSION | sed -e 's/\\.//' -e 's/\\..*//')/jaxlib-0.1.12-cp36-none-linux_x86_64.whl\n",
        "!pip install --upgrade -q jax\n",
        "!pip install -q tensorflow-datasets\n",
        "!pip install -q git+https://www.github.com/google/neural-tangents"
      ]
    },
    {
      "cell_type": "markdown",
      "metadata": {
        "colab_type": "text",
        "id": "knIftr57X055"
      },
      "source": [
        "Import libraries"
      ]
    },
    {
      "cell_type": "code",
      "execution_count": 0,
      "metadata": {
        "colab": {},
        "colab_type": "code",
        "id": "8D0i89hRmNoC"
      },
      "outputs": [],
      "source": [
        "from __future__ import absolute_import\n",
        "from __future__ import division\n",
        "from __future__ import print_function\n",
        "\n",
        "from jax.api import jit\n",
        "from jax.api import grad\n",
        "from jax import random\n",
        "\n",
        "import jax.numpy as np\n",
        "from jax.experimental import stax\n",
        "from jax.experimental import optimizers\n",
        "\n",
        "import tensorflow_datasets as tfds\n",
        "\n",
        "\n",
        "\n",
        "from neural_tangents import tangents\n",
        "from neural_tangents import layers"
      ]
    },
    {
      "cell_type": "markdown",
      "metadata": {
        "colab_type": "text",
        "id": "_bbZz-nWX4Hj"
      },
      "source": [
        "Define helper functions for processing data and defining a vanilla momentum optimizer"
      ]
    },
    {
      "cell_type": "code",
      "execution_count": 0,
      "metadata": {
        "colab": {},
        "colab_type": "code",
        "id": "-W1ws1B-6_vq"
      },
      "outputs": [],
      "source": [
        "def process_data(data_chunk):\n",
        "  \"\"\"Flatten the images and one-hot encode the labels.\"\"\"\n",
        "  image, label = data_chunk['image'], data_chunk['label']\n",
        "  \n",
        "  samples = image.shape[0]\n",
        "  image = np.array(np.reshape(image, (samples, -1)), dtype=np.float32)\n",
        "  image = (image - np.mean(image)) / np.std(image)\n",
        "  label = np.eye(10)[label]\n",
        "  \n",
        "  return {'image': image, 'label': label}"
      ]
    },
    {
      "cell_type": "code",
      "execution_count": 0,
      "metadata": {
        "colab": {},
        "colab_type": "code",
        "id": "Ik27L4izDK9s"
      },
      "outputs": [],
      "source": [
        "@optimizers.optimizer\n",
        "def momentum(learning_rate, momentum=0.9):\n",
        "  \"\"\"A standard momentum optimizer.\n",
        "  \"\"\"\n",
        "  learning_rate = optimizers.make_schedule(learning_rate)\n",
        "  def init_fun(x0):\n",
        "    v0 = np.zeros_like(x0)\n",
        "    return x0, v0\n",
        "  def update_fun(i, g, x, velocity):\n",
        "    velocity = momentum * velocity + g\n",
        "    x = x - learning_rate(i) * velocity\n",
        "    return x, velocity\n",
        "  return init_fun, update_fun\n"
      ]
    },
    {
      "cell_type": "markdown",
      "metadata": {
        "colab_type": "text",
        "id": "32Wvhil9X8IK"
      },
      "source": [
        "# Function Space Linearization"
      ]
    },
    {
      "cell_type": "markdown",
      "metadata": {
        "colab_type": "text",
        "id": "JJ_zDKsKcDB-"
      },
      "source": [
        "Create MNIST data pipeline using TensorFlow Datasets."
      ]
    },
    {
      "cell_type": "code",
      "execution_count": 0,
      "metadata": {
        "colab": {},
        "colab_type": "code",
        "id": "5llaSqZW4Et3"
      },
      "outputs": [],
      "source": [
        "dataset_size = 64\n",
        "\n",
        "train = tfds.load('mnist', split=tfds.Split.TRAIN, batch_size=dataset_size)\n",
        "train = process_data(next(tfds.as_numpy(train)))\n",
        "\n",
        "test = tfds.load('mnist', split=tfds.Split.TEST, batch_size=dataset_size)\n",
        "test = process_data(next(tfds.as_numpy(test)))"
      ]
    },
    {
      "cell_type": "markdown",
      "metadata": {
        "colab_type": "text",
        "id": "Ajz_oTOw72v8"
      },
      "source": [
        "Setup some experiment parameters."
      ]
    },
    {
      "cell_type": "code",
      "execution_count": 0,
      "metadata": {
        "colab": {},
        "colab_type": "code",
        "id": "UtjfeaYC72Gs"
      },
      "outputs": [],
      "source": [
        "learning_rate = 1e0\n",
        "training_time = 1000.0\n",
        "print_every = 100.0"
      ]
    },
    {
      "cell_type": "markdown",
      "metadata": {
        "colab_type": "text",
        "id": "1-nKR--j5p2C"
      },
      "source": [
        "Create a Fully-Connected Network."
      ]
    },
    {
      "cell_type": "code",
      "execution_count": 0,
      "metadata": {
        "colab": {},
        "colab_type": "code",
        "id": "wIbfrdzq5pLZ"
      },
      "outputs": [],
      "source": [
        "init_fn, f = stax.serial(\n",
        "    layers.Dense(4096), \n",
        "    stax.Tanh,\n",
        "    layers.Dense(10))\n",
        "\n",
        "key = random.PRNGKey(0)\n",
        "_, params = init_fn(key, (-1, 784))"
      ]
    },
    {
      "cell_type": "markdown",
      "metadata": {
        "colab_type": "text",
        "id": "c9zgKt9B8NBt"
      },
      "source": [
        "Construct the NTK."
      ]
    },
    {
      "cell_type": "code",
      "execution_count": 0,
      "metadata": {
        "colab": {},
        "colab_type": "code",
        "id": "bU6ccJM_8LWt"
      },
      "outputs": [],
      "source": [
        "theta = tangents.ntk(f, batch_size=16)\n",
        "\n",
        "g_dd = theta(params, train['image'])\n",
        "g_td = theta(params, test['image'], train['image'])"
      ]
    },
    {
      "cell_type": "markdown",
      "metadata": {
        "colab_type": "text",
        "id": "jdR-lIW11Vbj"
      },
      "source": [
        "Now that we have the NTK and a network we can compare against a number of different dynamics. Remember to reinitialize the network and NTK if you want to try a different dynamics."
      ]
    },
    {
      "cell_type": "markdown",
      "metadata": {
        "colab_type": "text",
        "id": "hVesciX61bGb"
      },
      "source": [
        "## Gradient Descent, MSE Loss"
      ]
    },
    {
      "cell_type": "markdown",
      "metadata": {
        "colab_type": "text",
        "id": "Lrp9YNCt7nCj"
      },
      "source": [
        "Create a optimizer and initialize it."
      ]
    },
    {
      "cell_type": "code",
      "execution_count": 0,
      "metadata": {
        "colab": {},
        "colab_type": "code",
        "id": "J-8i_4KD7o5s"
      },
      "outputs": [],
      "source": [
        "opt_init, opt_apply = optimizers.sgd(learning_rate)\n",
        "state = opt_init(params)"
      ]
    },
    {
      "cell_type": "markdown",
      "metadata": {
        "colab_type": "text",
        "id": "NspVdDOU8mhk"
      },
      "source": [
        "Create an MSE loss and a gradient."
      ]
    },
    {
      "cell_type": "code",
      "execution_count": 0,
      "metadata": {
        "colab": {},
        "colab_type": "code",
        "id": "z6L-LzyF8qLW"
      },
      "outputs": [],
      "source": [
        "loss = lambda fx, y_hat: 0.5 * np.mean((fx - y_hat) ** 2)\n",
        "grad_loss = jit(grad(lambda params, x, y: loss(f(params, x), y)))"
      ]
    },
    {
      "cell_type": "markdown",
      "metadata": {
        "colab_type": "text",
        "id": "f57Teh1317hn"
      },
      "source": [
        "Create an MSE predictor and compute the function space values of the network at initialization."
      ]
    },
    {
      "cell_type": "code",
      "execution_count": 0,
      "metadata": {
        "colab": {},
        "colab_type": "code",
        "id": "7UH_uOxz16w2"
      },
      "outputs": [],
      "source": [
        "predictor = tangents.analytic_mse_predictor(g_dd, train['label'])\n",
        "fx_train = f(params, train['image'])"
      ]
    },
    {
      "cell_type": "markdown",
      "metadata": {
        "colab_type": "text",
        "id": "rWROOyCZ9u6N"
      },
      "source": [
        "Train the network."
      ]
    },
    {
      "cell_type": "code",
      "execution_count": 0,
      "metadata": {
        "colab": {
          "height": 207
        },
        "colab_type": "code",
        "executionInfo": {
          "elapsed": 11050,
          "status": "ok",
          "timestamp": 1553570928238,
          "user": {
            "displayName": "",
            "photoUrl": "",
            "userId": ""
          },
          "user_tz": 420
        },
        "id": "WXeof-AB8BiV",
        "outputId": "860f4dfa-24ac-4a7e-96e1-2fe234acaea0"
      },
      "outputs": [
        {
          "name": "stdout",
          "output_type": "stream",
          "text": [
            "Time\tLoss\tLinear Loss\n",
            "0.0\t0.2830\t0.2830\n",
            "100.0\t0.1179\t0.1180\n",
            "200.0\t0.0831\t0.0832\n",
            "300.0\t0.0642\t0.0642\n",
            "400.0\t0.0521\t0.0521\n",
            "500.0\t0.0436\t0.0435\n",
            "600.0\t0.0372\t0.0371\n",
            "700.0\t0.0322\t0.0321\n",
            "800.0\t0.0282\t0.0281\n",
            "900.0\t0.0249\t0.0249\n"
          ]
        }
      ],
      "source": [
        "print ('Time\\tLoss\\tLinear Loss')\n",
        "print_every_step = int(print_every // learning_rate)\n",
        "\n",
        "X, Y = train['image'], train['label']\n",
        "\n",
        "for i in range(int(training_time // learning_rate)):\n",
        "  params = optimizers.get_params(state)\n",
        "  state = opt_apply(i, grad_loss(params, X, Y), state)\n",
        "  \n",
        "  if i % print_every_step == 0:\n",
        "    t = i * learning_rate\n",
        "    exact_loss = loss(f(params, X), Y)\n",
        "    linear_loss = loss(predictor(fx_train, t), Y)\n",
        "    print('{}\\t{:.4f}\\t{:.4f}'.format(t, exact_loss, linear_loss))\n",
        "    "
      ]
    },
    {
      "cell_type": "markdown",
      "metadata": {
        "colab_type": "text",
        "id": "gx65YR3A8_yd"
      },
      "source": [
        "## Gradient Descent, Cross Entropy Loss"
      ]
    },
    {
      "cell_type": "markdown",
      "metadata": {
        "colab_type": "text",
        "id": "8jEb5V9C8_yd"
      },
      "source": [
        "Create a optimizer and initialize it."
      ]
    },
    {
      "cell_type": "code",
      "execution_count": 0,
      "metadata": {
        "colab": {},
        "colab_type": "code",
        "id": "VKfuj6O88_ye"
      },
      "outputs": [],
      "source": [
        "opt_init, opt_apply = optimizers.sgd(learning_rate)\n",
        "state = opt_init(params)"
      ]
    },
    {
      "cell_type": "markdown",
      "metadata": {
        "colab_type": "text",
        "id": "hpWaHdvH8_yg"
      },
      "source": [
        "Create an Cross Entropy loss and a gradient."
      ]
    },
    {
      "cell_type": "code",
      "execution_count": 0,
      "metadata": {
        "colab": {},
        "colab_type": "code",
        "id": "zQ03wQ7O8_yh"
      },
      "outputs": [],
      "source": [
        "loss = lambda fx, y_hat: -np.mean(stax.logsoftmax(fx) * y_hat)\n",
        "grad_loss = jit(grad(lambda params, x, y: loss(f(params, x), y)))"
      ]
    },
    {
      "cell_type": "markdown",
      "metadata": {
        "colab_type": "text",
        "id": "WgS4k3878_yi"
      },
      "source": [
        "Create a Gradient Descent predictor and compute the function space values of the network at initialization."
      ]
    },
    {
      "cell_type": "code",
      "execution_count": 0,
      "metadata": {
        "colab": {},
        "colab_type": "code",
        "id": "h2uIi4mQ8_yi"
      },
      "outputs": [],
      "source": [
        "predictor = tangents.gradient_descent_predictor(g_dd, train['label'], loss)\n",
        "fx_train = f(params, train['image'])"
      ]
    },
    {
      "cell_type": "markdown",
      "metadata": {
        "colab_type": "text",
        "id": "tRh7Ur9Y8_yj"
      },
      "source": [
        "Train the network."
      ]
    },
    {
      "cell_type": "code",
      "execution_count": 0,
      "metadata": {
        "colab": {
          "height": 262
        },
        "colab_type": "code",
        "executionInfo": {
          "elapsed": 18891,
          "status": "ok",
          "timestamp": 1553571865717,
          "user": {
            "displayName": "",
            "photoUrl": "",
            "userId": ""
          },
          "user_tz": 420
        },
        "id": "FnW6DNWf8_yj",
        "outputId": "0a7282f5-91ac-41b6-bec9-1796e865dd9b"
      },
      "outputs": [
        {
          "name": "stdout",
          "output_type": "stream",
          "text": [
            "Time\tLoss\tLinear Loss\n",
            "0.0\t0.2435\t0.2435\n",
            "100.0\t0.2188\t0.2187\n",
            "200.0\t0.1979\t0.1978\n",
            "300.0\t0.1798\t0.1799\n",
            "400.0\t0.1640\t0.1644\n",
            "500.0\t0.1503\t0.1509\n",
            "600.0\t0.1381\t0.1390\n",
            "700.0\t0.1274\t0.1286\n",
            "800.0\t0.1179\t0.1193\n",
            "900.0\t0.1095\t0.1111\n"
          ]
        }
      ],
      "source": [
        "print ('Time\\tLoss\\tLinear Loss')\n",
        "print_every_step = int(print_every // learning_rate)\n",
        "\n",
        "X, Y = train['image'], train['label']\n",
        "\n",
        "for i in range(int(training_time // learning_rate)):\n",
        "  params = optimizers.get_params(state)\n",
        "  state = opt_apply(i, grad_loss(params, X, Y), state)\n",
        "  \n",
        "  if i % print_every_step == 0:\n",
        "    t = i * learning_rate\n",
        "    exact_loss = loss(f(params, X), Y)\n",
        "    linear_loss = loss(predictor(fx_train, t), Y)\n",
        "    print('{:.0f}\\t{:.4f}\\t{:.4f}'.format(t, exact_loss, linear_loss))\n",
        "    "
      ]
    },
    {
      "cell_type": "markdown",
      "metadata": {
        "colab_type": "text",
        "id": "vc2FaYtEDBJ_"
      },
      "source": [
        "## Momentum, Cross Entropy Loss"
      ]
    },
    {
      "cell_type": "markdown",
      "metadata": {
        "colab_type": "text",
        "id": "L4onegU1DBKA"
      },
      "source": [
        "Create a optimizer and initialize it."
      ]
    },
    {
      "cell_type": "code",
      "execution_count": 0,
      "metadata": {
        "colab": {},
        "colab_type": "code",
        "id": "cxoiw-DADBKB"
      },
      "outputs": [],
      "source": [
        "opt_init, opt_apply = momentum(learning_rate, 0.9)\n",
        "state = opt_init(params)"
      ]
    },
    {
      "cell_type": "markdown",
      "metadata": {
        "colab_type": "text",
        "id": "63VJ8y9FDBKE"
      },
      "source": [
        "Create a Cross Entropy loss and a gradient."
      ]
    },
    {
      "cell_type": "code",
      "execution_count": 0,
      "metadata": {
        "colab": {},
        "colab_type": "code",
        "id": "e8SxBiZXDBKE"
      },
      "outputs": [],
      "source": [
        "loss = lambda fx, y_hat: -np.mean(stax.logsoftmax(fx) * y_hat)\n",
        "grad_loss = jit(grad(lambda params, x, y: loss(f(params, x), y)))"
      ]
    },
    {
      "cell_type": "markdown",
      "metadata": {
        "colab_type": "text",
        "id": "t7GiiW-LDBKI"
      },
      "source": [
        "Create a momentum predictor and initialize it."
      ]
    },
    {
      "cell_type": "code",
      "execution_count": 0,
      "metadata": {
        "colab": {},
        "colab_type": "code",
        "id": "8fpKKqPaDBKJ"
      },
      "outputs": [],
      "source": [
        "pred_init, predictor, get = tangents.momentum_predictor(\n",
        "    g_dd, train['label'], loss, learning_rate)\n",
        "fx_train = f(params, train['image'])\n",
        "pred_state = pred_init(fx_train)"
      ]
    },
    {
      "cell_type": "markdown",
      "metadata": {
        "colab_type": "text",
        "id": "jW9ws4fMDBKL"
      },
      "source": [
        "Train the network."
      ]
    },
    {
      "cell_type": "code",
      "execution_count": 0,
      "metadata": {
        "colab": {
          "height": 141
        },
        "colab_type": "code",
        "executionInfo": {
          "elapsed": 14638,
          "status": "ok",
          "timestamp": 1553572295917,
          "user": {
            "displayName": "",
            "photoUrl": "",
            "userId": ""
          },
          "user_tz": 420
        },
        "id": "_pfseUitDBKM",
        "outputId": "9b198d80-76f9-4334-9761-2c2729078396"
      },
      "outputs": [
        {
          "name": "stdout",
          "output_type": "stream",
          "text": [
            "Time\tLoss\tLinear Loss\n",
            "0\t0.2449\t0.2449\n",
            "100\t0.1195\t0.1209\n",
            "200\t0.0686\t0.0710\n"
          ]
        }
      ],
      "source": [
        "print ('Time\\tLoss\\tLinear Loss')\n",
        "print_every_step = int(print_every // np.sqrt(learning_rate))\n",
        "\n",
        "X, Y = train['image'], train['label']\n",
        "\n",
        "for i in range(int(300.0 // np.sqrt(learning_rate))):\n",
        "  params = optimizers.get_params(state)\n",
        "  state = opt_apply(i, grad_loss(params, X, Y), state)\n",
        "  \n",
        "  if i % print_every_step == 0:\n",
        "    t = i * np.sqrt(learning_rate)\n",
        "    exact_loss = loss(f(params, X), Y)\n",
        "    linear_loss = loss(get(predictor(pred_state, t)), Y)\n",
        "    print('{:.0f}\\t{:.4f}\\t{:.4f}'.format(t, exact_loss, linear_loss))\n",
        "    "
      ]
    }
  ],
  "metadata": {
    "colab": {
      "collapsed_sections": [],
      "last_runtime": {
        "build_target": "//learning/deepmind/dm_python:dm_notebook",
        "kind": "private"
      },
      "name": "Function Space Linearization.ipynb",
      "provenance": [
        {
          "file_id": "/piper/depot/google3/third_party/py/neural_tangents/notebooks/weight_space_linearization.ipynb",
          "timestamp": 1553566903672
        },
        {
          "file_id": "1QrqIvy8NoPlwP65wkT2rMc9FJIHxXsmz",
          "timestamp": 1553543619721
        }
      ],
      "version": "0.3.2"
    },
    "kernelspec": {
      "display_name": "Python 2",
      "name": "python2"
    }
  },
  "nbformat": 4,
  "nbformat_minor": 0
}
